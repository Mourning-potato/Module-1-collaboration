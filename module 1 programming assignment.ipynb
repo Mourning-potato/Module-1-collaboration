{
 "cells": [
  {
   "cell_type": "code",
   "execution_count": 1,
   "id": "ccc76167-1d34-4de1-867e-4f7c97b17be1",
   "metadata": {},
   "outputs": [
    {
     "name": "stdout",
     "output_type": "stream",
     "text": [
      "second per hour: 3600\n",
      "seconds per day: 86400\n",
      "output 1: 24.0\n",
      "output 2: 24\n"
     ]
    }
   ],
   "source": [
    "second_per_minute = 60\n",
    "minutes_per_hour = 60\n",
    "seconds_per_hour = second_per_minute * minutes_per_hour # 3.1, 3.2, the number of seconds in an hour is 3600 \n",
    "print(\"second per hour: \" + str(seconds_per_hour))\n",
    "\n",
    "hours_per_day = 24\n",
    "seconds_per_day = seconds_per_hour * hours_per_day\n",
    "print(\"seconds per day: \" + str(seconds_per_day)) # 3.3, 3.4 outputs the seconds per day, which is 86400\n",
    "\n",
    "output1 = seconds_per_day / seconds_per_hour\n",
    "output2 = seconds_per_day // seconds_per_hour\n",
    "\n",
    "print(\"output 1: \" + str(output1)) # 3.5 outputs the result of the / division, which is 24.0\n",
    "print(\"output 2: \" + str(output2)) # 3.6 outputs the result of the // division, which is 24. \n",
    "                                   # The numbers in both cases are the same save for the .0"
   ]
  },
  {
   "cell_type": "code",
   "execution_count": null,
   "id": "3b9871a3-16ed-4720-b898-d00c4c05becb",
   "metadata": {},
   "outputs": [],
   "source": []
  }
 ],
 "metadata": {
  "kernelspec": {
   "display_name": "Python [conda env:base] *",
   "language": "python",
   "name": "conda-base-py"
  },
  "language_info": {
   "codemirror_mode": {
    "name": "ipython",
    "version": 3
   },
   "file_extension": ".py",
   "mimetype": "text/x-python",
   "name": "python",
   "nbconvert_exporter": "python",
   "pygments_lexer": "ipython3",
   "version": "3.13.5"
  }
 },
 "nbformat": 4,
 "nbformat_minor": 5
}
